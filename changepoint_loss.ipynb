{
 "cells": [
  {
   "cell_type": "code",
   "execution_count": 33,
   "metadata": {},
   "outputs": [],
   "source": [
    "import numpy as np\n",
    "import pandas as pd\n",
    "import ruptures as rpt\n",
    "import pickle\n",
    "\n",
    "def get_change_points(tsd):\n",
    "    tsd = np.array(tsd)\n",
    "    detector = rpt.Pelt(model=\"rbf\").fit(tsd)\n",
    "    change_points = detector.predict(pen=3)\n",
    "    return change_points[:-1]\n",
    "\n",
    "def get_change_point_intervals(change_points, n):\n",
    "    change_points = np.array(change_points)\n",
    "    arrays = [change_points + i for i in range(-3,4)]\n",
    "    change_point_intervals = np.unique(arrays)\n",
    "    change_point_intervals = change_point_intervals[change_point_intervals > 0]\n",
    "    change_point_intervals = change_point_intervals[change_point_intervals < n]\n",
    "    return change_point_intervals\n",
    "\n",
    "df = pd.read_csv(\"metr-la-zero-removed.csv\", index_col=0)\n",
    "df.index = pd.to_datetime(df.index)\n",
    "df = df[-500:]\n",
    "n = len(df)\n",
    "\n",
    "change_points = df.apply(get_change_points)\n",
    "pickle.dump(change_points, open(\"change_points.pkl\", \"wb\"))\n",
    "\n",
    "change_point_intervals = change_points.apply(get_change_point_intervals, n = n)\n",
    "pickle.dump(change_point_intervals, open(\"change_point_intervals.pkl\", \"wb\"))"
   ]
  }
 ],
 "metadata": {
  "kernelspec": {
   "display_name": "GNN",
   "language": "python",
   "name": "python3"
  },
  "language_info": {
   "codemirror_mode": {
    "name": "ipython",
    "version": 3
   },
   "file_extension": ".py",
   "mimetype": "text/x-python",
   "name": "python",
   "nbconvert_exporter": "python",
   "pygments_lexer": "ipython3",
   "version": "3.11.3"
  },
  "orig_nbformat": 4
 },
 "nbformat": 4,
 "nbformat_minor": 2
}
