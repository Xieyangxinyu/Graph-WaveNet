{
 "cells": [
  {
   "cell_type": "code",
   "execution_count": 1,
   "metadata": {},
   "outputs": [
    {
     "name": "stderr",
     "output_type": "stream",
     "text": [
      "/Users/yangxinyuxie/miniforge3/envs/GNN/lib/python3.9/site-packages/tqdm/auto.py:22: TqdmWarning: IProgress not found. Please update jupyter and ipywidgets. See https://ipywidgets.readthedocs.io/en/stable/user_install.html\n",
      "  from .autonotebook import tqdm as notebook_tqdm\n"
     ]
    }
   ],
   "source": [
    "import torch\n",
    "import torch.nn.functional as F\n",
    "from torch.distributions import MultivariateNormal as MVN"
   ]
  },
  {
   "cell_type": "code",
   "execution_count": 88,
   "metadata": {},
   "outputs": [
    {
     "data": {
      "text/plain": [
       "tensor([[[[-0., -0.],\n",
       "          [-0., -0.],\n",
       "          [-0., -0.]],\n",
       "\n",
       "         [[-0., -0.],\n",
       "          [-0., -0.],\n",
       "          [-0., -0.]],\n",
       "\n",
       "         [[-0., -0.],\n",
       "          [-0., -0.],\n",
       "          [-0., -0.]]],\n",
       "\n",
       "\n",
       "        [[[-2., -3.],\n",
       "          [-0., -0.],\n",
       "          [-0., -0.]],\n",
       "\n",
       "         [[-2., -3.],\n",
       "          [-0., -0.],\n",
       "          [-0., -0.]],\n",
       "\n",
       "         [[-2., -3.],\n",
       "          [-0., -0.],\n",
       "          [-0., -0.]]],\n",
       "\n",
       "\n",
       "        [[[-0.,  3.],\n",
       "          [-0., -0.],\n",
       "          [-0., -0.]],\n",
       "\n",
       "         [[-0.,  3.],\n",
       "          [-0., -0.],\n",
       "          [-0., -0.]],\n",
       "\n",
       "         [[-0.,  3.],\n",
       "          [-0., -0.],\n",
       "          [-0., -0.]]],\n",
       "\n",
       "\n",
       "        [[[-3., -0.],\n",
       "          [-0., -0.],\n",
       "          [-0., -0.]],\n",
       "\n",
       "         [[-3., -0.],\n",
       "          [-0., -0.],\n",
       "          [-0., -0.]],\n",
       "\n",
       "         [[-3., -0.],\n",
       "          [-0., -0.],\n",
       "          [-0., -0.]]]])"
      ]
     },
     "execution_count": 88,
     "metadata": {},
     "output_type": "execute_result"
    }
   ],
   "source": [
    "pred = torch.tensor([[[1.,2],[3,4],[2,4],[3,2]],[[1.,2],[3,4],[2,4],[3,2]], [[1.,2],[3,4],[2,4],[3,2]]])\n",
    "target = torch.tensor([[[1,2],[1,1],[2,7],[0,2]], [[1.,2],[3,4],[2,4],[3,2]], [[1.,2],[3,4],[2,4],[3,2]]])\n",
    "pred = pred.swapaxes(0,1)\n",
    "target = target.swapaxes(0,1)\n",
    "noise_var = 1.0\n",
    "logits = -(pred.unsqueeze(2) - target.unsqueeze(1))\n",
    "logits"
   ]
  },
  {
   "cell_type": "code",
   "execution_count": 63,
   "metadata": {},
   "outputs": [
    {
     "data": {
      "text/plain": [
       "torch.Size([2, 4, 2])"
      ]
     },
     "execution_count": 63,
     "metadata": {},
     "output_type": "execute_result"
    }
   ],
   "source": [
    "pred.shape"
   ]
  },
  {
   "cell_type": "code",
   "execution_count": 61,
   "metadata": {},
   "outputs": [
    {
     "data": {
      "text/plain": [
       "tensor(2.2775)"
      ]
     },
     "execution_count": 61,
     "metadata": {},
     "output_type": "execute_result"
    }
   ],
   "source": [
    "F.cross_entropy(logits, torch.arange(pred.shape[0]))"
   ]
  },
  {
   "cell_type": "code",
   "execution_count": 86,
   "metadata": {},
   "outputs": [],
   "source": [
    "pred = pred[mask].unsqueeze(1)\n",
    "target = target[mask].unsqueeze(1)"
   ]
  },
  {
   "cell_type": "code",
   "execution_count": 87,
   "metadata": {},
   "outputs": [],
   "source": [
    "noise_var = 2\n",
    "logits = - (pred - target.T).pow(2) / (2 * noise_var)"
   ]
  },
  {
   "cell_type": "code",
   "execution_count": 88,
   "metadata": {},
   "outputs": [
    {
     "data": {
      "text/plain": [
       "tensor([[ -2.2500,  -4.0000, -16.0000,  -0.2500,   0.0000],\n",
       "        [ -1.0000,  -2.2500, -12.2500,   0.0000,  -0.2500],\n",
       "        [ -0.2500,  -1.0000,  -9.0000,  -0.2500,  -1.0000],\n",
       "        [  0.0000,  -0.2500,  -6.2500,  -1.0000,  -2.2500],\n",
       "        [ -1.0000,  -0.2500,  -2.2500,  -4.0000,  -6.2500]])"
      ]
     },
     "execution_count": 88,
     "metadata": {},
     "output_type": "execute_result"
    }
   ],
   "source": [
    "logits"
   ]
  },
  {
   "cell_type": "code",
   "execution_count": 83,
   "metadata": {},
   "outputs": [
    {
     "data": {
      "text/plain": [
       "tensor(4.8177)"
      ]
     },
     "execution_count": 83,
     "metadata": {},
     "output_type": "execute_result"
    }
   ],
   "source": [
    "F.cross_entropy(logits, torch.arange(pred.shape[0]))"
   ]
  },
  {
   "cell_type": "code",
   "execution_count": 46,
   "metadata": {},
   "outputs": [
    {
     "data": {
      "text/plain": [
       "tensor([ 3.6389,  3.5798, 11.5660,  1.9505,  1.7918,  7.6116])"
      ]
     },
     "execution_count": 46,
     "metadata": {},
     "output_type": "execute_result"
    }
   ],
   "source": [
    "F.cross_entropy(logits, torch.arange(pred.shape[0]), reduction='none')"
   ]
  },
  {
   "cell_type": "code",
   "execution_count": 54,
   "metadata": {},
   "outputs": [
    {
     "data": {
      "text/plain": [
       "5.669359999999999"
      ]
     },
     "execution_count": 54,
     "metadata": {},
     "output_type": "execute_result"
    }
   ],
   "source": []
  },
  {
   "cell_type": "code",
   "execution_count": 12,
   "metadata": {},
   "outputs": [
    {
     "data": {
      "text/plain": [
       "tensor([0.3998, 0.9585, 1.9221, 0.9802, 4.7808])"
      ]
     },
     "execution_count": 12,
     "metadata": {},
     "output_type": "execute_result"
    }
   ],
   "source": [
    "F.cross_entropy(logits, torch.arange(5), reduction='none')"
   ]
  },
  {
   "cell_type": "code",
   "execution_count": 7,
   "metadata": {},
   "outputs": [
    {
     "data": {
      "text/plain": [
       "tensor([[0.8200],\n",
       "        [1.0700],\n",
       "        [1.8200],\n",
       "        [3.0700],\n",
       "        [4.8200]])"
      ]
     },
     "execution_count": 7,
     "metadata": {},
     "output_type": "execute_result"
    }
   ],
   "source": [
    "logits = - (pred - target).pow(2) / (2 * noise_var)\n",
    "-torch.log(torch.exp(logits)/sum(torch.exp(logits)))"
   ]
  }
 ],
 "metadata": {
  "kernelspec": {
   "display_name": "GNN",
   "language": "python",
   "name": "python3"
  },
  "language_info": {
   "codemirror_mode": {
    "name": "ipython",
    "version": 3
   },
   "file_extension": ".py",
   "mimetype": "text/x-python",
   "name": "python",
   "nbconvert_exporter": "python",
   "pygments_lexer": "ipython3",
   "version": "3.9.16"
  },
  "orig_nbformat": 4
 },
 "nbformat": 4,
 "nbformat_minor": 2
}
